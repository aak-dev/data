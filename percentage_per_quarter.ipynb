{
  "nbformat": 4,
  "nbformat_minor": 0,
  "metadata": {
    "colab": {
      "name": "percentage per quarter.ipynb",
      "provenance": [],
      "authorship_tag": "ABX9TyNrKFZ/AyjnuvLTxnugSHZj",
      "include_colab_link": true
    },
    "kernelspec": {
      "name": "python3",
      "display_name": "Python 3"
    }
  },
  "cells": [
    {
      "cell_type": "markdown",
      "metadata": {
        "id": "view-in-github",
        "colab_type": "text"
      },
      "source": [
        "<a href=\"https://colab.research.google.com/github/aak-dev/bbb/blob/master/percentage_per_quarter.ipynb\" target=\"_parent\"><img src=\"https://colab.research.google.com/assets/colab-badge.svg\" alt=\"Open In Colab\"/></a>"
      ]
    },
    {
      "cell_type": "code",
      "metadata": {
        "id": "WgsQVmvNwptH",
        "colab_type": "code",
        "colab": {}
      },
      "source": [
        "import pandas as pd\n",
        "data = pd.read_csv(r\"E:\\Data\\data1d.csv\") # add your own file \n",
        "length=len(data)\n",
        "global open\n",
        "global close\n",
        "for x in range(length):\n",
        "s=data.iloc[x,0]\n",
        "s1=s.split(\"T\")\n",
        "d=s1[0].split(\"-\")\n",
        "if(d[0]=='2019' and d[1]=='01' and d[2]=='01'):\n",
        "open = data.iloc[x,1]\n",
        "if(d[0]=='2019' and d[1]=='03' and d[2]=='31'):\n",
        "close=data.iloc[x,4]\n",
        "if(close>=open):\n",
        "profit=close-open\n",
        "pp=(profit/open)100\n",
        "print(\"profit=\",pp)\n",
        "else:\n",
        "loss=open-close\n",
        "lp=(loss/open)100\n",
        "print(\"loss=\",lp)\n",
        "print(\"open=\",open)\n",
        "print(\"close=\",close)"
      ],
      "execution_count": 0,
      "outputs": []
    }
  ]
}